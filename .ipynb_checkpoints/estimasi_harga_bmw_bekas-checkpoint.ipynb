{
 "cells": [
  {
   "cell_type": "markdown",
   "id": "a06ba319",
   "metadata": {},
   "source": [
    "# Deskripsi library yang digunakan"
   ]
  },
  {
   "cell_type": "code",
   "execution_count": null,
   "id": "aa2c657c",
   "metadata": {},
   "outputs": [],
   "source": [
    "import pandas as pd\n",
    "import numpy as np\n",
    "import matplotlib.pyplot as plt\n",
    "import seaborn as sns"
   ]
  },
  {
   "cell_type": "markdown",
   "id": "10b09b4b",
   "metadata": {},
   "source": [
    "# Memanggil Dataset"
   ]
  },
  {
   "cell_type": "code",
   "execution_count": null,
   "id": "1c5a033e",
   "metadata": {},
   "outputs": [],
   "source": [
    "df = pd.read_csv('bmw.csv')"
   ]
  },
  {
   "cell_type": "markdown",
   "id": "274391e2",
   "metadata": {},
   "source": [
    "# Deskripsi Dataset"
   ]
  },
  {
   "cell_type": "code",
   "execution_count": null,
   "id": "9d192334",
   "metadata": {},
   "outputs": [],
   "source": [
    "df.head()"
   ]
  },
  {
   "cell_type": "code",
   "execution_count": null,
   "id": "a30f6f94",
   "metadata": {},
   "outputs": [],
   "source": [
    "df.info()"
   ]
  },
  {
   "cell_type": "code",
   "execution_count": null,
   "id": "4a62f579",
   "metadata": {},
   "outputs": [],
   "source": [
    "sns.heatmap(df.isnull())"
   ]
  },
  {
   "cell_type": "code",
   "execution_count": null,
   "id": "a76eb675",
   "metadata": {},
   "outputs": [],
   "source": [
    "df.describe()"
   ]
  },
  {
   "cell_type": "markdown",
   "id": "013f6ba7",
   "metadata": {},
   "source": [
    "# Visualisasi Data"
   ]
  },
  {
   "cell_type": "code",
   "execution_count": null,
   "id": "795ccc9a",
   "metadata": {},
   "outputs": [],
   "source": [
    "plt.figure(figsize=(10,8))\n",
    "sns.heatmap(df.corr(),annot=True)"
   ]
  },
  {
   "cell_type": "markdown",
   "id": "aeada586",
   "metadata": {},
   "source": [
    "# Jumlah Mobil Berdasarkan Model"
   ]
  },
  {
   "cell_type": "code",
   "execution_count": null,
   "id": "00f2ecbd",
   "metadata": {},
   "outputs": [],
   "source": [
    "models = df.groupby('model').count()[['Inches']].sort_values(by='Inches', ascending=True).reset_index()\n",
    "models = models.rename(columns={'Inches':'numberOfLaptop'})"
   ]
  },
  {
   "cell_type": "code",
   "execution_count": null,
   "id": "814c1bb2",
   "metadata": {},
   "outputs": [],
   "source": [
    "fig = plt.figure(figsize=(15,5))\n",
    "sns.barplot(x=models['Company'],y=models['numberOfLaptop'],color='royalblue')\n",
    "plt.xticks(rotation=60)"
   ]
  },
  {
   "cell_type": "code",
   "execution_count": null,
   "id": "bbc9ee0d",
   "metadata": {},
   "outputs": [],
   "source": []
  }
 ],
 "metadata": {
  "kernelspec": {
   "display_name": "Python 3 (ipykernel)",
   "language": "python",
   "name": "python3"
  },
  "language_info": {
   "codemirror_mode": {
    "name": "ipython",
    "version": 3
   },
   "file_extension": ".py",
   "mimetype": "text/x-python",
   "name": "python",
   "nbconvert_exporter": "python",
   "pygments_lexer": "ipython3",
   "version": "3.9.6"
  }
 },
 "nbformat": 4,
 "nbformat_minor": 5
}
