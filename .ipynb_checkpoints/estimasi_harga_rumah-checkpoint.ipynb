{
 "cells": [
  {
   "cell_type": "markdown",
   "id": "a06ba319",
   "metadata": {},
   "source": [
    "# Deskripsi library yang digunakan"
   ]
  },
  {
   "cell_type": "code",
   "execution_count": 1,
   "id": "aa2c657c",
   "metadata": {},
   "outputs": [],
   "source": [
    "import pandas as pd\n",
    "import numpy as np\n",
    "import matplotlib.pyplot as plt\n",
    "import seaborn as sns"
   ]
  },
  {
   "cell_type": "markdown",
   "id": "10b09b4b",
   "metadata": {},
   "source": [
    "# Memanggil Dataset"
   ]
  },
  {
   "cell_type": "code",
   "execution_count": 2,
   "id": "1c5a033e",
   "metadata": {},
   "outputs": [
    {
     "ename": "AttributeError",
     "evalue": "module 'pandas' has no attribute 'read_xlsx'",
     "output_type": "error",
     "traceback": [
      "\u001b[1;31m---------------------------------------------------------------------------\u001b[0m",
      "\u001b[1;31mAttributeError\u001b[0m                            Traceback (most recent call last)",
      "Cell \u001b[1;32mIn[2], line 1\u001b[0m\n\u001b[1;32m----> 1\u001b[0m df \u001b[38;5;241m=\u001b[39m \u001b[43mpd\u001b[49m\u001b[38;5;241;43m.\u001b[39;49m\u001b[43mread_xlsx\u001b[49m(\u001b[38;5;124m'\u001b[39m\u001b[38;5;124mData_Rumah.xlsx\u001b[39m\u001b[38;5;124m'\u001b[39m)\n",
      "\u001b[1;31mAttributeError\u001b[0m: module 'pandas' has no attribute 'read_xlsx'"
     ]
    }
   ],
   "source": [
    "df = pd.read_xlsx('Data_Rumah.xlsx')"
   ]
  },
  {
   "cell_type": "markdown",
   "id": "274391e2",
   "metadata": {},
   "source": [
    "# Deskripsi Dataset"
   ]
  },
  {
   "cell_type": "code",
   "execution_count": null,
   "id": "9d192334",
   "metadata": {},
   "outputs": [],
   "source": [
    "df.head()"
   ]
  },
  {
   "cell_type": "code",
   "execution_count": null,
   "id": "a30f6f94",
   "metadata": {},
   "outputs": [],
   "source": [
    "df.info()"
   ]
  },
  {
   "cell_type": "code",
   "execution_count": null,
   "id": "4a62f579",
   "metadata": {},
   "outputs": [],
   "source": [
    "sns.heatmap(df.isnull())"
   ]
  },
  {
   "cell_type": "code",
   "execution_count": null,
   "id": "a76eb675",
   "metadata": {},
   "outputs": [],
   "source": [
    "df.describe()"
   ]
  },
  {
   "cell_type": "markdown",
   "id": "013f6ba7",
   "metadata": {},
   "source": [
    "# Visualisasi Data"
   ]
  },
  {
   "cell_type": "code",
   "execution_count": null,
   "id": "795ccc9a",
   "metadata": {},
   "outputs": [],
   "source": [
    "plt.figure(figsize=(10,8))\n",
    "sns.heatmap(df.corr(),annot=True)"
   ]
  },
  {
   "cell_type": "code",
   "execution_count": null,
   "id": "00f2ecbd",
   "metadata": {},
   "outputs": [],
   "source": [
    "models = df.groupby('Company').count()[['Inches']].sort_values(by='Inches', ascending=True).reset_index()\n",
    "models = models.rename(columns={'Inches':'numberOfLaptop'})"
   ]
  },
  {
   "cell_type": "code",
   "execution_count": null,
   "id": "814c1bb2",
   "metadata": {},
   "outputs": [],
   "source": [
    "fig = plt.figure(figsize=(15,5))\n",
    "sns.barplot(x=models['Company'],y=models['numberOfLaptop'],color='royalblue')\n",
    "plt.xticks(rotation=60)"
   ]
  },
  {
   "cell_type": "code",
   "execution_count": null,
   "id": "bbc9ee0d",
   "metadata": {},
   "outputs": [],
   "source": []
  }
 ],
 "metadata": {
  "kernelspec": {
   "display_name": "Python 3 (ipykernel)",
   "language": "python",
   "name": "python3"
  },
  "language_info": {
   "codemirror_mode": {
    "name": "ipython",
    "version": 3
   },
   "file_extension": ".py",
   "mimetype": "text/x-python",
   "name": "python",
   "nbconvert_exporter": "python",
   "pygments_lexer": "ipython3",
   "version": "3.9.6"
  }
 },
 "nbformat": 4,
 "nbformat_minor": 5
}
